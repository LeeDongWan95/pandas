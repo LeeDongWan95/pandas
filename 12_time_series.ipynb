{
  "cells": [
    {
      "cell_type": "markdown",
      "metadata": {
        "id": "view-in-github",
        "colab_type": "text"
      },
      "source": [
        "<a href=\"https://colab.research.google.com/github/LeeDongWan95/pandas/blob/main/12_time_series.ipynb\" target=\"_parent\"><img src=\"https://colab.research.google.com/assets/colab-badge.svg\" alt=\"Open In Colab\"/></a>"
      ]
    },
    {
      "cell_type": "markdown",
      "id": "70a1e7f8",
      "metadata": {
        "id": "70a1e7f8"
      },
      "source": [
        "## Ⅰ. 시계열\n",
        "\n",
        "- 시간상 여러 지점을 관측하거나 측정할 수 있도록 목록 또는 그래프로 표시한 일련의 데이터 점\n",
        "- 일정한 간격의 연속적이고 동등한 점들로 이루어진 시퀀스\n",
        "- 빅데이터에서 일반적으로 동등한 시간 간격으로 배치된 연속적 사건으로 나타남\n",
        "- ex) 금융시장의 주가 예측, 일기 예보, 전력 에너지 소비 추세, 웹 사이트 방문자 수 트렌트 등"
      ]
    },
    {
      "cell_type": "markdown",
      "id": "ab234286",
      "metadata": {
        "id": "ab234286"
      },
      "source": [
        "## Ⅱ. 파이썬 날짜 및 시간 관련 객체\n",
        "\n",
        "\n",
        "| 클래스              | 내용                                                               |\n",
        "|---------------------|--------------------------------------------------------------------|\n",
        "| class datetime.date | 그레고리력으로 날짜를 다룸. year,month,day 속성이 있음 |\n",
        "| class datetime.time | 특정일과 관련 없이 모든 날(day)을 24*60*60 초로 다룸. hour,minute,second,microsecond,tzinfo 속성이 있음|\n",
        "| class datetime.datetime | 날짜와 시간의 조합. year,month,day,hour,minute,second,microsecond,tzinfo 속성이 있음|\n",
        "| class datetime.timedelta | date 인스턴스 간, time 인스턴스 간 또는 datetime 인스턴스들 간 차이를 마이크로초로 나타내는 기간|\n"
      ]
    },
    {
      "cell_type": "markdown",
      "id": "2977a3ee",
      "metadata": {
        "id": "2977a3ee"
      },
      "source": [
        "## Ⅲ. pandas 로 날짜 다루기\n",
        "### 1. 시계열 자료와 pandas\n",
        "- 년도별, 월별, 일별, 시별, 분별 초별등 시간의 흐름에 따라 관측된 자료\n",
        "- pandas 에서 시계열 자료를 손쉽게 다룰 수 있도록, datetime (datetime64) 자료형 제공\n",
        "  - pandas.to_datetime() 함수를 사용해서, 날짜와 시간을 나타내는 문자열을 datetime (datetime64) 자료형으로 변경 가능\n",
        "  \n",
        "### 2. pandas.to_datetime() 사용법\n",
        "- 문자열 타입의 시간을 pandas 의 datetime (datetime64) 형으로 변경\n",
        "- 주요 사용법\n",
        "  - Series 변수 = to_datetime(Series 변수)\n",
        "    - return 된 Series 변수 데이터는 datetime64 형으로 변형되어 저장\n",
        "  - Series 변수 = to_datetime(Series 변수, format='~~~')\n",
        "    - Series 에 변환될 문자열이 특별한 포맷을 가져서, 자동변환이 어려운 경우 명시적으로 format 지정 (옵션)\n",
        "  - Series 변수 = to_datetime(Series 변수, errors='raise')\n",
        "    - 디폴트 raise\n",
        "    - errors 가능한 값: ignore(무시), raise(에러 발생), coerce(NaT 로 값 변경해서 저장) (옵션)\n",
        "\n",
        "\n",
        "| 표시 | 의미                                |\n",
        "|------|:-------------------------------------|\n",
        "| %y   | 연도를 축약해서 표시, 예: 21        |\n",
        "| %Y   | 연도를 축약하지 않고 표시, 예: 2021 |\n",
        "| %m   | 월을 두자릿 수로 표시, 예: 01 ~ 12  |\n",
        "| %d   | 일을 두자릿 수로 표시, 예: 01 ~ 31  |\n",
        "| %H   | 시간 표시(24시간), 예: 00 ~ 23        |\n",
        "| %M   | 분 표시, 예: 00 ~ 59  |\n",
        "| %S   | 초 표시, 예: 00 ~ 59        |\n",
        "\n",
        "> 참고: https://docs.python.org/3/library/datetime.html#strftime-and-strptime-behavior"
      ]
    },
    {
      "cell_type": "code",
      "execution_count": 1,
      "id": "fdd15e47",
      "metadata": {
        "id": "fdd15e47"
      },
      "outputs": [],
      "source": [
        "import pandas as pd"
      ]
    },
    {
      "cell_type": "markdown",
      "id": "5cacfdfb",
      "metadata": {
        "id": "5cacfdfb"
      },
      "source": [
        "### [실습1]"
      ]
    },
    {
      "cell_type": "markdown",
      "id": "e5c9efb0",
      "metadata": {
        "id": "e5c9efb0"
      },
      "source": [
        "#### 1) 날짜를 인덱스로 갖는 시리즈 객체 생성"
      ]
    },
    {
      "cell_type": "code",
      "source": [
        "pd.date_range?"
      ],
      "metadata": {
        "id": "1UruRQedORt2"
      },
      "id": "1UruRQedORt2",
      "execution_count": 4,
      "outputs": []
    },
    {
      "cell_type": "code",
      "execution_count": 6,
      "id": "b4802c4b",
      "metadata": {
        "id": "b4802c4b",
        "colab": {
          "base_uri": "https://localhost:8080/"
        },
        "outputId": "25441064-e1d2-47df-b763-e8e84810b99f"
      },
      "outputs": [
        {
          "output_type": "execute_result",
          "data": {
            "text/plain": [
              "2024-12-31    0\n",
              "2025-12-31    1\n",
              "2026-12-31    2\n",
              "Freq: A-DEC, dtype: int64"
            ]
          },
          "metadata": {},
          "execution_count": 6
        }
      ],
      "source": [
        "pd.Series(range(3), index=pd.date_range('2024',freq='Y',periods=3))"
      ]
    },
    {
      "cell_type": "markdown",
      "id": "46ab976b",
      "metadata": {
        "id": "46ab976b"
      },
      "source": [
        "#### 2) 날짜를 value로 갖는 시리즈 객체 생성"
      ]
    },
    {
      "cell_type": "code",
      "execution_count": 7,
      "id": "5900e92a",
      "metadata": {
        "id": "5900e92a",
        "colab": {
          "base_uri": "https://localhost:8080/"
        },
        "outputId": "9c7cd75c-5f14-4684-b4e2-6edaaf73f726"
      },
      "outputs": [
        {
          "output_type": "execute_result",
          "data": {
            "text/plain": [
              "0   2024-01-01\n",
              "1   2024-01-02\n",
              "2   2024-01-03\n",
              "dtype: datetime64[ns]"
            ]
          },
          "metadata": {},
          "execution_count": 7
        }
      ],
      "source": [
        "pd.Series(pd.date_range('2024',periods=3))"
      ]
    },
    {
      "cell_type": "code",
      "execution_count": 8,
      "id": "d0c57105",
      "metadata": {
        "collapsed": true,
        "id": "d0c57105",
        "outputId": "f0ce9bb7-c62f-4b3e-8a71-6eaa721766f9",
        "colab": {
          "base_uri": "https://localhost:8080/"
        }
      },
      "outputs": [
        {
          "output_type": "execute_result",
          "data": {
            "text/plain": [
              "0   2024-06-01\n",
              "1   2024-06-02\n",
              "2   2024-06-03\n",
              "dtype: datetime64[ns]"
            ]
          },
          "metadata": {},
          "execution_count": 8
        }
      ],
      "source": [
        "pd.Series(pd.date_range('20240601',periods=3))"
      ]
    },
    {
      "cell_type": "markdown",
      "id": "c6109dbf",
      "metadata": {
        "id": "c6109dbf"
      },
      "source": [
        "#### 3) 날짜+시간을 value로 갖는 시리즈 객체 생성"
      ]
    },
    {
      "cell_type": "code",
      "execution_count": 10,
      "id": "202bc379",
      "metadata": {
        "id": "202bc379",
        "outputId": "c3a560bf-0713-48fc-c114-36849b7fabfc",
        "colab": {
          "base_uri": "https://localhost:8080/"
        }
      },
      "outputs": [
        {
          "output_type": "execute_result",
          "data": {
            "text/plain": [
              "0   2024-06-01 09:10:12\n",
              "1   2024-06-01 10:10:12\n",
              "2   2024-06-01 11:10:12\n",
              "dtype: datetime64[ns]"
            ]
          },
          "metadata": {},
          "execution_count": 10
        }
      ],
      "source": [
        "ser = pd.Series(pd.date_range('20240601 09:10:12',freq=\"H\",periods=3))\n",
        "ser"
      ]
    },
    {
      "cell_type": "markdown",
      "id": "6f390715",
      "metadata": {
        "id": "6f390715"
      },
      "source": [
        "#### 4) 시간대 정보 접근 : .dt"
      ]
    },
    {
      "cell_type": "code",
      "execution_count": 11,
      "id": "287c8a59",
      "metadata": {
        "id": "287c8a59",
        "outputId": "38f4a32c-147f-44f9-dc8e-f416442cce80",
        "colab": {
          "base_uri": "https://localhost:8080/"
        }
      },
      "outputs": [
        {
          "output_type": "execute_result",
          "data": {
            "text/plain": [
              "0     9\n",
              "1    10\n",
              "2    11\n",
              "dtype: int32"
            ]
          },
          "metadata": {},
          "execution_count": 11
        }
      ],
      "source": [
        "ser.dt.hour"
      ]
    },
    {
      "cell_type": "code",
      "execution_count": 12,
      "id": "f54144d3",
      "metadata": {
        "id": "f54144d3",
        "outputId": "81e61073-341f-4222-9e3a-d03e1dd30ac2",
        "colab": {
          "base_uri": "https://localhost:8080/"
        }
      },
      "outputs": [
        {
          "output_type": "execute_result",
          "data": {
            "text/plain": [
              "0    10\n",
              "1    10\n",
              "2    10\n",
              "dtype: int32"
            ]
          },
          "metadata": {},
          "execution_count": 12
        }
      ],
      "source": [
        "ser.dt.minute"
      ]
    },
    {
      "cell_type": "code",
      "execution_count": 13,
      "id": "9409ca6b",
      "metadata": {
        "id": "9409ca6b",
        "outputId": "26a0078b-0aa9-4154-b5ad-532921d03cc1",
        "colab": {
          "base_uri": "https://localhost:8080/"
        }
      },
      "outputs": [
        {
          "output_type": "execute_result",
          "data": {
            "text/plain": [
              "0    12\n",
              "1    12\n",
              "2    12\n",
              "dtype: int32"
            ]
          },
          "metadata": {},
          "execution_count": 13
        }
      ],
      "source": [
        "ser.dt.second"
      ]
    },
    {
      "cell_type": "code",
      "source": [
        "ser = pd.Series(pd.date_range('20240601 09:20:31',periods=3))\n",
        "ser"
      ],
      "metadata": {
        "colab": {
          "base_uri": "https://localhost:8080/"
        },
        "id": "6qZzyBpWS25f",
        "outputId": "1550a48f-f0e8-433f-eec5-678bb4eda359"
      },
      "id": "6qZzyBpWS25f",
      "execution_count": 16,
      "outputs": [
        {
          "output_type": "execute_result",
          "data": {
            "text/plain": [
              "0   2024-06-01 09:20:31\n",
              "1   2024-06-02 09:20:31\n",
              "2   2024-06-03 09:20:31\n",
              "dtype: datetime64[ns]"
            ]
          },
          "metadata": {},
          "execution_count": 16
        }
      ]
    },
    {
      "cell_type": "code",
      "execution_count": 17,
      "id": "7ac9e570",
      "metadata": {
        "id": "7ac9e570",
        "outputId": "c16e8cc7-0b2e-4a71-a9a7-d12f4629a41b",
        "colab": {
          "base_uri": "https://localhost:8080/"
        }
      },
      "outputs": [
        {
          "output_type": "execute_result",
          "data": {
            "text/plain": [
              "0    9\n",
              "1    9\n",
              "2    9\n",
              "dtype: int32"
            ]
          },
          "metadata": {},
          "execution_count": 17
        }
      ],
      "source": [
        "ser.dt.hour"
      ]
    },
    {
      "cell_type": "code",
      "execution_count": 19,
      "id": "3333f41c",
      "metadata": {
        "id": "3333f41c",
        "outputId": "458d05df-b3d5-4636-cdfd-424de460c743",
        "colab": {
          "base_uri": "https://localhost:8080/"
        }
      },
      "outputs": [
        {
          "output_type": "execute_result",
          "data": {
            "text/plain": [
              "0    31\n",
              "1    31\n",
              "2    31\n",
              "dtype: int32"
            ]
          },
          "metadata": {},
          "execution_count": 19
        }
      ],
      "source": [
        "ser.dt.second"
      ]
    },
    {
      "cell_type": "code",
      "source": [
        "ser.dt.year\n",
        "ser.dt.month\n",
        "ser.dt.day"
      ],
      "metadata": {
        "colab": {
          "base_uri": "https://localhost:8080/"
        },
        "id": "m3z5lOxkTOVv",
        "outputId": "b2d8a5c6-957a-4d65-98a3-d209f696c62e"
      },
      "id": "m3z5lOxkTOVv",
      "execution_count": 21,
      "outputs": [
        {
          "output_type": "execute_result",
          "data": {
            "text/plain": [
              "0    1\n",
              "1    2\n",
              "2    3\n",
              "dtype: int32"
            ]
          },
          "metadata": {},
          "execution_count": 21
        }
      ]
    },
    {
      "cell_type": "markdown",
      "id": "c8bfd4d5",
      "metadata": {
        "id": "c8bfd4d5"
      },
      "source": [
        "- day가 2인 열 추출"
      ]
    },
    {
      "cell_type": "code",
      "execution_count": 25,
      "id": "330ab96b",
      "metadata": {
        "id": "330ab96b",
        "colab": {
          "base_uri": "https://localhost:8080/"
        },
        "outputId": "d59368e1-2eaa-4385-f9b8-5a2317f057e8"
      },
      "outputs": [
        {
          "output_type": "execute_result",
          "data": {
            "text/plain": [
              "1   2024-06-02 09:20:31\n",
              "dtype: datetime64[ns]"
            ]
          },
          "metadata": {},
          "execution_count": 25
        }
      ],
      "source": [
        "ser[ser.dt.day == 2]"
      ]
    },
    {
      "cell_type": "markdown",
      "id": "fb83387e",
      "metadata": {
        "id": "fb83387e"
      },
      "source": [
        "### [실습2]"
      ]
    },
    {
      "cell_type": "code",
      "execution_count": 26,
      "id": "af2de2fa",
      "metadata": {
        "id": "af2de2fa",
        "colab": {
          "base_uri": "https://localhost:8080/",
          "height": 332
        },
        "outputId": "ee5b2220-b02b-40d7-bde2-a20637bb513e"
      },
      "outputs": [
        {
          "output_type": "execute_result",
          "data": {
            "text/plain": [
              "                 order\n",
              "0  2020-01-01 07:10:00\n",
              "1  2020-01-08 07:20:30\n",
              "2  2020-02-20 11:20:00\n",
              "3  2020-02-20 04:40:50\n",
              "4  2020-02-28 12:10:20\n",
              "5  2019-01-10 17:23:50\n",
              "6  2019-06-20 22:27:50\n",
              "7  2019-06-20 21:15:59\n",
              "8  2019-12-10 21:15:59"
            ],
            "text/html": [
              "\n",
              "  <div id=\"df-43ccb128-6399-4475-9063-4b87aea75243\" class=\"colab-df-container\">\n",
              "    <div>\n",
              "<style scoped>\n",
              "    .dataframe tbody tr th:only-of-type {\n",
              "        vertical-align: middle;\n",
              "    }\n",
              "\n",
              "    .dataframe tbody tr th {\n",
              "        vertical-align: top;\n",
              "    }\n",
              "\n",
              "    .dataframe thead th {\n",
              "        text-align: right;\n",
              "    }\n",
              "</style>\n",
              "<table border=\"1\" class=\"dataframe\">\n",
              "  <thead>\n",
              "    <tr style=\"text-align: right;\">\n",
              "      <th></th>\n",
              "      <th>order</th>\n",
              "    </tr>\n",
              "  </thead>\n",
              "  <tbody>\n",
              "    <tr>\n",
              "      <th>0</th>\n",
              "      <td>2020-01-01 07:10:00</td>\n",
              "    </tr>\n",
              "    <tr>\n",
              "      <th>1</th>\n",
              "      <td>2020-01-08 07:20:30</td>\n",
              "    </tr>\n",
              "    <tr>\n",
              "      <th>2</th>\n",
              "      <td>2020-02-20 11:20:00</td>\n",
              "    </tr>\n",
              "    <tr>\n",
              "      <th>3</th>\n",
              "      <td>2020-02-20 04:40:50</td>\n",
              "    </tr>\n",
              "    <tr>\n",
              "      <th>4</th>\n",
              "      <td>2020-02-28 12:10:20</td>\n",
              "    </tr>\n",
              "    <tr>\n",
              "      <th>5</th>\n",
              "      <td>2019-01-10 17:23:50</td>\n",
              "    </tr>\n",
              "    <tr>\n",
              "      <th>6</th>\n",
              "      <td>2019-06-20 22:27:50</td>\n",
              "    </tr>\n",
              "    <tr>\n",
              "      <th>7</th>\n",
              "      <td>2019-06-20 21:15:59</td>\n",
              "    </tr>\n",
              "    <tr>\n",
              "      <th>8</th>\n",
              "      <td>2019-12-10 21:15:59</td>\n",
              "    </tr>\n",
              "  </tbody>\n",
              "</table>\n",
              "</div>\n",
              "    <div class=\"colab-df-buttons\">\n",
              "\n",
              "  <div class=\"colab-df-container\">\n",
              "    <button class=\"colab-df-convert\" onclick=\"convertToInteractive('df-43ccb128-6399-4475-9063-4b87aea75243')\"\n",
              "            title=\"Convert this dataframe to an interactive table.\"\n",
              "            style=\"display:none;\">\n",
              "\n",
              "  <svg xmlns=\"http://www.w3.org/2000/svg\" height=\"24px\" viewBox=\"0 -960 960 960\">\n",
              "    <path d=\"M120-120v-720h720v720H120Zm60-500h600v-160H180v160Zm220 220h160v-160H400v160Zm0 220h160v-160H400v160ZM180-400h160v-160H180v160Zm440 0h160v-160H620v160ZM180-180h160v-160H180v160Zm440 0h160v-160H620v160Z\"/>\n",
              "  </svg>\n",
              "    </button>\n",
              "\n",
              "  <style>\n",
              "    .colab-df-container {\n",
              "      display:flex;\n",
              "      gap: 12px;\n",
              "    }\n",
              "\n",
              "    .colab-df-convert {\n",
              "      background-color: #E8F0FE;\n",
              "      border: none;\n",
              "      border-radius: 50%;\n",
              "      cursor: pointer;\n",
              "      display: none;\n",
              "      fill: #1967D2;\n",
              "      height: 32px;\n",
              "      padding: 0 0 0 0;\n",
              "      width: 32px;\n",
              "    }\n",
              "\n",
              "    .colab-df-convert:hover {\n",
              "      background-color: #E2EBFA;\n",
              "      box-shadow: 0px 1px 2px rgba(60, 64, 67, 0.3), 0px 1px 3px 1px rgba(60, 64, 67, 0.15);\n",
              "      fill: #174EA6;\n",
              "    }\n",
              "\n",
              "    .colab-df-buttons div {\n",
              "      margin-bottom: 4px;\n",
              "    }\n",
              "\n",
              "    [theme=dark] .colab-df-convert {\n",
              "      background-color: #3B4455;\n",
              "      fill: #D2E3FC;\n",
              "    }\n",
              "\n",
              "    [theme=dark] .colab-df-convert:hover {\n",
              "      background-color: #434B5C;\n",
              "      box-shadow: 0px 1px 3px 1px rgba(0, 0, 0, 0.15);\n",
              "      filter: drop-shadow(0px 1px 2px rgba(0, 0, 0, 0.3));\n",
              "      fill: #FFFFFF;\n",
              "    }\n",
              "  </style>\n",
              "\n",
              "    <script>\n",
              "      const buttonEl =\n",
              "        document.querySelector('#df-43ccb128-6399-4475-9063-4b87aea75243 button.colab-df-convert');\n",
              "      buttonEl.style.display =\n",
              "        google.colab.kernel.accessAllowed ? 'block' : 'none';\n",
              "\n",
              "      async function convertToInteractive(key) {\n",
              "        const element = document.querySelector('#df-43ccb128-6399-4475-9063-4b87aea75243');\n",
              "        const dataTable =\n",
              "          await google.colab.kernel.invokeFunction('convertToInteractive',\n",
              "                                                    [key], {});\n",
              "        if (!dataTable) return;\n",
              "\n",
              "        const docLinkHtml = 'Like what you see? Visit the ' +\n",
              "          '<a target=\"_blank\" href=https://colab.research.google.com/notebooks/data_table.ipynb>data table notebook</a>'\n",
              "          + ' to learn more about interactive tables.';\n",
              "        element.innerHTML = '';\n",
              "        dataTable['output_type'] = 'display_data';\n",
              "        await google.colab.output.renderOutput(dataTable, element);\n",
              "        const docLink = document.createElement('div');\n",
              "        docLink.innerHTML = docLinkHtml;\n",
              "        element.appendChild(docLink);\n",
              "      }\n",
              "    </script>\n",
              "  </div>\n",
              "\n",
              "\n",
              "<div id=\"df-1d29ff87-f42a-41b8-87a5-7c6a7b3ee6be\">\n",
              "  <button class=\"colab-df-quickchart\" onclick=\"quickchart('df-1d29ff87-f42a-41b8-87a5-7c6a7b3ee6be')\"\n",
              "            title=\"Suggest charts\"\n",
              "            style=\"display:none;\">\n",
              "\n",
              "<svg xmlns=\"http://www.w3.org/2000/svg\" height=\"24px\"viewBox=\"0 0 24 24\"\n",
              "     width=\"24px\">\n",
              "    <g>\n",
              "        <path d=\"M19 3H5c-1.1 0-2 .9-2 2v14c0 1.1.9 2 2 2h14c1.1 0 2-.9 2-2V5c0-1.1-.9-2-2-2zM9 17H7v-7h2v7zm4 0h-2V7h2v10zm4 0h-2v-4h2v4z\"/>\n",
              "    </g>\n",
              "</svg>\n",
              "  </button>\n",
              "\n",
              "<style>\n",
              "  .colab-df-quickchart {\n",
              "      --bg-color: #E8F0FE;\n",
              "      --fill-color: #1967D2;\n",
              "      --hover-bg-color: #E2EBFA;\n",
              "      --hover-fill-color: #174EA6;\n",
              "      --disabled-fill-color: #AAA;\n",
              "      --disabled-bg-color: #DDD;\n",
              "  }\n",
              "\n",
              "  [theme=dark] .colab-df-quickchart {\n",
              "      --bg-color: #3B4455;\n",
              "      --fill-color: #D2E3FC;\n",
              "      --hover-bg-color: #434B5C;\n",
              "      --hover-fill-color: #FFFFFF;\n",
              "      --disabled-bg-color: #3B4455;\n",
              "      --disabled-fill-color: #666;\n",
              "  }\n",
              "\n",
              "  .colab-df-quickchart {\n",
              "    background-color: var(--bg-color);\n",
              "    border: none;\n",
              "    border-radius: 50%;\n",
              "    cursor: pointer;\n",
              "    display: none;\n",
              "    fill: var(--fill-color);\n",
              "    height: 32px;\n",
              "    padding: 0;\n",
              "    width: 32px;\n",
              "  }\n",
              "\n",
              "  .colab-df-quickchart:hover {\n",
              "    background-color: var(--hover-bg-color);\n",
              "    box-shadow: 0 1px 2px rgba(60, 64, 67, 0.3), 0 1px 3px 1px rgba(60, 64, 67, 0.15);\n",
              "    fill: var(--button-hover-fill-color);\n",
              "  }\n",
              "\n",
              "  .colab-df-quickchart-complete:disabled,\n",
              "  .colab-df-quickchart-complete:disabled:hover {\n",
              "    background-color: var(--disabled-bg-color);\n",
              "    fill: var(--disabled-fill-color);\n",
              "    box-shadow: none;\n",
              "  }\n",
              "\n",
              "  .colab-df-spinner {\n",
              "    border: 2px solid var(--fill-color);\n",
              "    border-color: transparent;\n",
              "    border-bottom-color: var(--fill-color);\n",
              "    animation:\n",
              "      spin 1s steps(1) infinite;\n",
              "  }\n",
              "\n",
              "  @keyframes spin {\n",
              "    0% {\n",
              "      border-color: transparent;\n",
              "      border-bottom-color: var(--fill-color);\n",
              "      border-left-color: var(--fill-color);\n",
              "    }\n",
              "    20% {\n",
              "      border-color: transparent;\n",
              "      border-left-color: var(--fill-color);\n",
              "      border-top-color: var(--fill-color);\n",
              "    }\n",
              "    30% {\n",
              "      border-color: transparent;\n",
              "      border-left-color: var(--fill-color);\n",
              "      border-top-color: var(--fill-color);\n",
              "      border-right-color: var(--fill-color);\n",
              "    }\n",
              "    40% {\n",
              "      border-color: transparent;\n",
              "      border-right-color: var(--fill-color);\n",
              "      border-top-color: var(--fill-color);\n",
              "    }\n",
              "    60% {\n",
              "      border-color: transparent;\n",
              "      border-right-color: var(--fill-color);\n",
              "    }\n",
              "    80% {\n",
              "      border-color: transparent;\n",
              "      border-right-color: var(--fill-color);\n",
              "      border-bottom-color: var(--fill-color);\n",
              "    }\n",
              "    90% {\n",
              "      border-color: transparent;\n",
              "      border-bottom-color: var(--fill-color);\n",
              "    }\n",
              "  }\n",
              "</style>\n",
              "\n",
              "  <script>\n",
              "    async function quickchart(key) {\n",
              "      const quickchartButtonEl =\n",
              "        document.querySelector('#' + key + ' button');\n",
              "      quickchartButtonEl.disabled = true;  // To prevent multiple clicks.\n",
              "      quickchartButtonEl.classList.add('colab-df-spinner');\n",
              "      try {\n",
              "        const charts = await google.colab.kernel.invokeFunction(\n",
              "            'suggestCharts', [key], {});\n",
              "      } catch (error) {\n",
              "        console.error('Error during call to suggestCharts:', error);\n",
              "      }\n",
              "      quickchartButtonEl.classList.remove('colab-df-spinner');\n",
              "      quickchartButtonEl.classList.add('colab-df-quickchart-complete');\n",
              "    }\n",
              "    (() => {\n",
              "      let quickchartButtonEl =\n",
              "        document.querySelector('#df-1d29ff87-f42a-41b8-87a5-7c6a7b3ee6be button');\n",
              "      quickchartButtonEl.style.display =\n",
              "        google.colab.kernel.accessAllowed ? 'block' : 'none';\n",
              "    })();\n",
              "  </script>\n",
              "</div>\n",
              "\n",
              "  <div id=\"id_ffbdaa9b-5351-4197-a263-dbdc5c18e79c\">\n",
              "    <style>\n",
              "      .colab-df-generate {\n",
              "        background-color: #E8F0FE;\n",
              "        border: none;\n",
              "        border-radius: 50%;\n",
              "        cursor: pointer;\n",
              "        display: none;\n",
              "        fill: #1967D2;\n",
              "        height: 32px;\n",
              "        padding: 0 0 0 0;\n",
              "        width: 32px;\n",
              "      }\n",
              "\n",
              "      .colab-df-generate:hover {\n",
              "        background-color: #E2EBFA;\n",
              "        box-shadow: 0px 1px 2px rgba(60, 64, 67, 0.3), 0px 1px 3px 1px rgba(60, 64, 67, 0.15);\n",
              "        fill: #174EA6;\n",
              "      }\n",
              "\n",
              "      [theme=dark] .colab-df-generate {\n",
              "        background-color: #3B4455;\n",
              "        fill: #D2E3FC;\n",
              "      }\n",
              "\n",
              "      [theme=dark] .colab-df-generate:hover {\n",
              "        background-color: #434B5C;\n",
              "        box-shadow: 0px 1px 3px 1px rgba(0, 0, 0, 0.15);\n",
              "        filter: drop-shadow(0px 1px 2px rgba(0, 0, 0, 0.3));\n",
              "        fill: #FFFFFF;\n",
              "      }\n",
              "    </style>\n",
              "    <button class=\"colab-df-generate\" onclick=\"generateWithVariable('df')\"\n",
              "            title=\"Generate code using this dataframe.\"\n",
              "            style=\"display:none;\">\n",
              "\n",
              "  <svg xmlns=\"http://www.w3.org/2000/svg\" height=\"24px\"viewBox=\"0 0 24 24\"\n",
              "       width=\"24px\">\n",
              "    <path d=\"M7,19H8.4L18.45,9,17,7.55,7,17.6ZM5,21V16.75L18.45,3.32a2,2,0,0,1,2.83,0l1.4,1.43a1.91,1.91,0,0,1,.58,1.4,1.91,1.91,0,0,1-.58,1.4L9.25,21ZM18.45,9,17,7.55Zm-12,3A5.31,5.31,0,0,0,4.9,8.1,5.31,5.31,0,0,0,1,6.5,5.31,5.31,0,0,0,4.9,4.9,5.31,5.31,0,0,0,6.5,1,5.31,5.31,0,0,0,8.1,4.9,5.31,5.31,0,0,0,12,6.5,5.46,5.46,0,0,0,6.5,12Z\"/>\n",
              "  </svg>\n",
              "    </button>\n",
              "    <script>\n",
              "      (() => {\n",
              "      const buttonEl =\n",
              "        document.querySelector('#id_ffbdaa9b-5351-4197-a263-dbdc5c18e79c button.colab-df-generate');\n",
              "      buttonEl.style.display =\n",
              "        google.colab.kernel.accessAllowed ? 'block' : 'none';\n",
              "\n",
              "      buttonEl.onclick = () => {\n",
              "        google.colab.notebook.generateWithVariable('df');\n",
              "      }\n",
              "      })();\n",
              "    </script>\n",
              "  </div>\n",
              "\n",
              "    </div>\n",
              "  </div>\n"
            ],
            "application/vnd.google.colaboratory.intrinsic+json": {
              "type": "dataframe",
              "variable_name": "df",
              "summary": "{\n  \"name\": \"df\",\n  \"rows\": 9,\n  \"fields\": [\n    {\n      \"column\": \"order\",\n      \"properties\": {\n        \"dtype\": \"object\",\n        \"num_unique_values\": 9,\n        \"samples\": [\n          \"2019-06-20 21:15:59\",\n          \"2020-01-08 07:20:30\",\n          \"2019-01-10 17:23:50\"\n        ],\n        \"semantic_type\": \"\",\n        \"description\": \"\"\n      }\n    }\n  ]\n}"
            }
          },
          "metadata": {},
          "execution_count": 26
        }
      ],
      "source": [
        "df = pd.DataFrame({'order':['2020-01-01 07:10:00',\n",
        "                            '2020-01-08 07:20:30',\n",
        "                            '2020-02-20 11:20:00',\n",
        "                            '2020-02-20 04:40:50',\n",
        "                            '2020-02-28 12:10:20',\n",
        "                            '2019-01-10 17:23:50',\n",
        "                            '2019-06-20 22:27:50',\n",
        "                            '2019-06-20 21:15:59',\n",
        "                            '2019-12-10 21:15:59',\n",
        "                           ]})\n",
        "df"
      ]
    },
    {
      "cell_type": "code",
      "execution_count": 27,
      "id": "86b6771d",
      "metadata": {
        "id": "86b6771d",
        "outputId": "217e7869-e93b-4885-ba58-b8fa69152ea4",
        "colab": {
          "base_uri": "https://localhost:8080/"
        }
      },
      "outputs": [
        {
          "output_type": "stream",
          "name": "stdout",
          "text": [
            "<class 'pandas.core.frame.DataFrame'>\n",
            "RangeIndex: 9 entries, 0 to 8\n",
            "Data columns (total 1 columns):\n",
            " #   Column  Non-Null Count  Dtype \n",
            "---  ------  --------------  ----- \n",
            " 0   order   9 non-null      object\n",
            "dtypes: object(1)\n",
            "memory usage: 200.0+ bytes\n"
          ]
        }
      ],
      "source": [
        "df.info()"
      ]
    },
    {
      "cell_type": "markdown",
      "id": "6da2c6c9",
      "metadata": {
        "id": "6da2c6c9"
      },
      "source": [
        "#### 1) object => datetime64(ns)"
      ]
    },
    {
      "cell_type": "code",
      "source": [
        "pd.to_datetime?"
      ],
      "metadata": {
        "id": "J0LNy3P6UWGJ"
      },
      "id": "J0LNy3P6UWGJ",
      "execution_count": 28,
      "outputs": []
    },
    {
      "cell_type": "code",
      "execution_count": 30,
      "id": "ccb598dc",
      "metadata": {
        "id": "ccb598dc"
      },
      "outputs": [],
      "source": [
        "# to_datetime()\n",
        "\n",
        "\n",
        "\n",
        "df['order'] = pd.to_datetime(df['order'], format=\"%Y-%m-%d %H:%M:%S\")"
      ]
    },
    {
      "cell_type": "code",
      "execution_count": 31,
      "id": "ddd3fbe1",
      "metadata": {
        "id": "ddd3fbe1",
        "outputId": "9f2634d5-34b1-4e02-b489-089c7b4ba3a4",
        "colab": {
          "base_uri": "https://localhost:8080/"
        }
      },
      "outputs": [
        {
          "output_type": "stream",
          "name": "stdout",
          "text": [
            "<class 'pandas.core.frame.DataFrame'>\n",
            "RangeIndex: 9 entries, 0 to 8\n",
            "Data columns (total 1 columns):\n",
            " #   Column  Non-Null Count  Dtype         \n",
            "---  ------  --------------  -----         \n",
            " 0   order   9 non-null      datetime64[ns]\n",
            "dtypes: datetime64[ns](1)\n",
            "memory usage: 200.0 bytes\n"
          ]
        }
      ],
      "source": [
        "df.info()"
      ]
    },
    {
      "cell_type": "code",
      "source": [
        "df = pd.DataFrame({'order':['2020-01-01 07:10:00',\n",
        "                            '2020-01-08 07:20:30',\n",
        "                            '2020-02-20 11:20:00',\n",
        "                            '2020-02-20 04:40:50',\n",
        "                            '2020-02-28 12:10:20',\n",
        "                            '2019-01-10 17:23:50',\n",
        "                            '2019-06-20 22:27:50',\n",
        "                            '2019-06-20 21:15:59',\n",
        "                            '2019-12-10 21:15:59',\n",
        "                           ]}, dtype=\"datetime64[ns]\")\n",
        "df.info()"
      ],
      "metadata": {
        "colab": {
          "base_uri": "https://localhost:8080/"
        },
        "id": "Snx8bfmnVfXE",
        "outputId": "2c1ee1ca-3089-4d0c-9d9e-c8fcfbfb67f0"
      },
      "id": "Snx8bfmnVfXE",
      "execution_count": 32,
      "outputs": [
        {
          "output_type": "stream",
          "name": "stdout",
          "text": [
            "<class 'pandas.core.frame.DataFrame'>\n",
            "RangeIndex: 9 entries, 0 to 8\n",
            "Data columns (total 1 columns):\n",
            " #   Column  Non-Null Count  Dtype         \n",
            "---  ------  --------------  -----         \n",
            " 0   order   9 non-null      datetime64[ns]\n",
            "dtypes: datetime64[ns](1)\n",
            "memory usage: 200.0 bytes\n"
          ]
        }
      ]
    }
  ],
  "metadata": {
    "kernelspec": {
      "display_name": "Python 3 (ipykernel)",
      "language": "python",
      "name": "python3"
    },
    "language_info": {
      "codemirror_mode": {
        "name": "ipython",
        "version": 3
      },
      "file_extension": ".py",
      "mimetype": "text/x-python",
      "name": "python",
      "nbconvert_exporter": "python",
      "pygments_lexer": "ipython3",
      "version": "3.9.12"
    },
    "colab": {
      "provenance": [],
      "include_colab_link": true
    }
  },
  "nbformat": 4,
  "nbformat_minor": 5
}